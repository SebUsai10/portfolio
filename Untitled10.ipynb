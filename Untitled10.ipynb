{
 "cells": [
  {
   "cell_type": "markdown",
   "metadata": {},
   "source": [
    "A simple example of pricing a call option in a Black Scholes world comparing both analytical and Monte Carlo techniques"
   ]
  },
  {
   "cell_type": "code",
   "execution_count": 27,
   "metadata": {},
   "outputs": [],
   "source": [
    "\n",
    "#required libraries\n",
    "import numpy as np\n",
    "import matplotlib.pyplot as plt\n",
    "from scipy.stats import norm\n",
    "import math\n",
    "\n",
    "#stock info\n",
    "risk_free_rate = 0.05\n",
    "S0 = 10\n",
    "sigma = 0.15\n",
    "\n",
    "#option info\n",
    "K = 11\n",
    "T = 1\n",
    "t = 0"
   ]
  },
  {
   "cell_type": "code",
   "execution_count": 28,
   "metadata": {},
   "outputs": [
    {
     "name": "stdout",
     "output_type": "stream",
     "text": [
      "Cost of a Black Scholes vanilla call option =  0.4075865972892556\n"
     ]
    }
   ],
   "source": [
    "#Before doing a Monte Carlo Estimate I will get the analytical solution for later comparison\n",
    "\n",
    "d1 = (math.log(S0/K)+(risk_free_rate + sigma**2/2)*(T-t))/(sigma*math.sqrt(T-t))\n",
    "d2 = d1 - sigma*math.sqrt(T-t)\n",
    "\n",
    "analytic_call = S0*norm.cdf(d1)-K*math.exp(-risk_free_rate*(T-t))*norm.cdf(d2)\n",
    "\n",
    "print(\"Cost of a Black Scholes vanilla call option = \",analytic_call)"
   ]
  },
  {
   "cell_type": "code",
   "execution_count": 29,
   "metadata": {},
   "outputs": [],
   "source": [
    "#functions for valuations with our simulated stock prices at time T and our call payoffs at time T\n",
    "\n",
    "def terminal_shareprices(S0,risk_free_rate,sigma,Z,T):\n",
    "    return S0*np.exp((risk_free_rate-sigma**2/2)*T+sigma*np.sqrt(T)*Z)\n",
    "\n",
    "def discounted_call_payoff(S_T,K,risk_free_rate,T):\n",
    "    return np.exp(-risk_free_rate*T)*np.maximum(S_T-K,0)"
   ]
  },
  {
   "cell_type": "code",
   "execution_count": 39,
   "metadata": {},
   "outputs": [
    {
     "name": "stdout",
     "output_type": "stream",
     "text": [
      "Monte Carlo estimated call price =  0.40621957920614327\n"
     ]
    }
   ],
   "source": [
    "#generate monte carlo estimates\n",
    "\n",
    "np.random.seed(0)\n",
    "\n",
    "mc_call = [None]*50\n",
    "mc_std = [None]*50\n",
    "\n",
    "for i in range(1,51):\n",
    "    norm_array = norm.rvs(size = 1000*i)\n",
    "    term_val = terminal_shareprices(S0,risk_free_rate,sigma,norm_array,T-t)\n",
    "    mc_val = discounted_call_payoff(term_val,strike,risk_free_rate,T-t)\n",
    "    mc_call[i-1] = np.mean(mc_val)\n",
    "    mc_std[i-1] = np.std(mc_val)/np.sqrt(i*1000)\n",
    "    \n",
    "print(\"Monte Carlo estimated call price = \",(np.mean(mc_call)))\n"
   ]
  },
  {
   "cell_type": "code",
   "execution_count": 35,
   "metadata": {},
   "outputs": [
    {
     "data": {
      "image/png": "[encoded data removed]",
      "text/plain": [
       "<Figure size 432x288 with 1 Axes>"
      ]
     },
     "metadata": {
      "needs_background": "light"
     },
     "output_type": "display_data"
    }
   ],
   "source": [
    "plt.plot([analytic_call]*50)\n",
    "plt.plot(mc_call,'.')\n",
    "plt.plot(analytic_call+3*np.array(mc_std),'r')\n",
    "plt.plot(analytic_call-3*np.array(mc_std),'r')\n",
    "plt.xlabel(\"sample size 1000's\")\n",
    "plt.ylabel(\"call option value\")\n",
    "plt.show()\n"
   ]
  },
  {
   "cell_type": "markdown",
   "metadata": {},
   "source": [
    "It can be seen above that the blue line is our Black Scholes analytic option value whilst the orange dots are the Monte Carlo estimates for increasing sample sizes of 1000-50000. The red lines simply show 3 standard deviations from the analytic price. The Monte Carlo estimates converge quite quickly to the analytic price. The Monte Carlo price is marginally lower than that of the Black Scholes price."
   ]
  },
  {
   "cell_type": "markdown",
   "metadata": {},
   "source": [
    "Important: This will not be new or novel to anyone with python and calculus knowledge however the more interesting use of this technique now that we know it outputs a similar result to the analytic solution would be to use it to value more exotic options that do not have analytic solutions. Further depth can be added by altering the stock price paths using proprietary models perhaps including factors and or random jumps, then pricing options based on this. Only then would a profitable trading strategy be able to be attained."
   ]
  }
 ],
 "metadata": {
  "kernelspec": {
   "display_name": "Python 3",
   "language": "python",
   "name": "python3"
  },
  "language_info": {
   "codemirror_mode": {
    "name": "ipython",
    "version": 3
   },
   "file_extension": ".py",
   "mimetype": "text/x-python",
   "name": "python",
   "nbconvert_exporter": "python",
   "pygments_lexer": "ipython3",
   "version": "3.7.3"
  }
 },
 "nbformat": 4,
 "nbformat_minor": 2
}
