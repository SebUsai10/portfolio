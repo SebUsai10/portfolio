{
 "cells": [
  {
   "cell_type": "markdown",
   "metadata": {},
   "source": [
    "The goal of this notebook it to examine the mean reversion properties of volatility by considering the VIX. \n",
    "\n",
    "A simple standard deviation band around a monthly average will serve as the measure of volatility. The strategy is long vol only as short vol strategies have left tails that I seek to avoid.\n",
    "\n",
    "If there is a daily close on the VIX 1 standard deviation below the 21 day average the strategy buys 1 unit of vol and holds until the vix closes 1sd above the 21 day average else the startegy is not invested."
   ]
  },
  {
   "cell_type": "code",
   "execution_count": 8,
   "metadata": {},
   "outputs": [
    {
     "name": "stderr",
     "output_type": "stream",
     "text": [
      "C:\\Users\\Seb Usai\\Anaconda3\\lib\\site-packages\\pandas\\core\\indexing.py:190: SettingWithCopyWarning: \n",
      "A value is trying to be set on a copy of a slice from a DataFrame\n",
      "\n",
      "See the caveats in the documentation: http://pandas.pydata.org/pandas-docs/stable/indexing.html#indexing-view-versus-copy\n",
      "  self._setitem_with_indexer(indexer, value)\n"
     ]
    },
    {
     "data": {
      "text/plain": [
       "<matplotlib.axes._subplots.AxesSubplot at 0x29b508d8668>"
      ]
     },
     "execution_count": 8,
     "metadata": {},
     "output_type": "execute_result"
    },
    {
     "data": {
      "image/png": "[encoded data removed]",
      "text/plain": [
       "<Figure size 432x288 with 1 Axes>"
      ]
     },
     "metadata": {},
     "output_type": "display_data"
    }
   ],
   "source": [
    "#libraries\n",
    "import datetime as dt\n",
    "import matplotlib.pyplot as plt\n",
    "from matplotlib import style\n",
    "import pandas as pd\n",
    "import pandas_datareader.data as web\n",
    "import matplotlib.dates as mdates\n",
    "style.use ('ggplot')\n",
    "import numpy as np\n",
    "\n",
    "\n",
    "#import our data and select dates\n",
    "start = dt.datetime(2000,1,1)\n",
    "end = dt.datetime(2019,6,6)\n",
    "df = web.DataReader('^VIX','yahoo',start,end)\n",
    "df.to_csv('VIX.csv')\n",
    "df = pd.read_csv('VIX.csv', parse_dates = True, index_col=0)\n",
    "\n",
    "#approx 21 trading days per month used for window\n",
    "window = 21\n",
    "upper_std = 1\n",
    "lower_std = 1\n",
    "#Calculate rolling mean and standard deviation using number of days set above\n",
    "rolling_mean = df['Close'].rolling(window).mean()\n",
    "rolling_std = df['Close'].rolling(window).std()\n",
    "#create two new DataFrame columns to hold values of upper and lower Bollinger bands and 200ma for trend\n",
    "df['Rolling Mean'] = rolling_mean\n",
    "df['Bollinger High'] = rolling_mean + (rolling_std * upper_std)\n",
    "df['Bollinger Low'] = rolling_mean - (rolling_std * lower_std)\n",
    "\n",
    "#Create an \"empty\" column as placeholder for our /position signals\n",
    "df['Position'] = None\n",
    "#Fill our newly created position column - we will buy (1 unit) for a lower band break and go to 0 on an upper band break\n",
    "\n",
    "for row in range(len(df)):\n",
    "    \n",
    "    if (df['Close'].iloc[row] > df['Bollinger High'].iloc[row]) and (df['Close'].iloc[row-1] < df['Bollinger High'].iloc[row-1]):\n",
    "        df['Position'].iloc[row] = 0\n",
    "        \n",
    "    if (df['Close'].iloc[row] < df['Bollinger Low'].iloc[row]) and (df['Close'].iloc[row-1] > df['Bollinger Low'].iloc[row-1]):\n",
    "        df['Position'].iloc[row] = 1\n",
    "#Forward fill our position column to replace the \"None\" values with the correct long/short positions to represent the \"holding\" of our position\n",
    "#forward through time\n",
    "df['Position'].fillna(method='ffill',inplace=True)\n",
    "#Calculate the daily market return and multiply that by the position to determine strategy returns\n",
    "df['Market Return'] = np.log(df['Close'] / df['Close'].shift(1))*100\n",
    "df['Strategy Return'] = df['Market Return'] * df['Position'].shift(1)\n",
    "\n",
    "#Plot the strategy returns\n",
    "df['Strategy Return'].cumsum().plot()\n",
    "\n"
   ]
  },
  {
   "cell_type": "markdown",
   "metadata": {},
   "source": [
    "a suprisingly smooth strategy with a right tail and inverse correlation with the S&P500. This could be impemented with VIX call options to precisely limit risk. Furthermore short vix strategies could be implemented with vix puts to remove the left tail and gain additional trading opportunities. "
   ]
  }
 ],
 "metadata": {
  "kernelspec": {
   "display_name": "Python 3",
   "language": "python",
   "name": "python3"
  },
  "language_info": {
   "codemirror_mode": {
    "name": "ipython",
    "version": 3
   },
   "file_extension": ".py",
   "mimetype": "text/x-python",
   "name": "python",
   "nbconvert_exporter": "python",
   "pygments_lexer": "ipython3",
   "version": "3.7.3"
  }
 },
 "nbformat": 4,
 "nbformat_minor": 2
}
